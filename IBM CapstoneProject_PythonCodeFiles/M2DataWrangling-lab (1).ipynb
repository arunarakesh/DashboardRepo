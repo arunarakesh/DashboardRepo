{
  "metadata": {
    "kernelspec": {
      "name": "python",
      "display_name": "Python (Pyodide)",
      "language": "python"
    },
    "language_info": {
      "codemirror_mode": {
        "name": "python",
        "version": 3
      },
      "file_extension": ".py",
      "mimetype": "text/x-python",
      "name": "python",
      "nbconvert_exporter": "python",
      "pygments_lexer": "ipython3",
      "version": "3.8"
    },
    "prev_pub_hash": "90ac80ca41fde58b95f02cc0cfc0a0f2ed3115615ffe1bdfdfc10fd5ffeef9a4"
  },
  "nbformat_minor": 4,
  "nbformat": 4,
  "cells": [
    {
      "cell_type": "markdown",
      "source": "<p style=\"text-align:center\">\n    <a href=\"https://skills.network/?utm_medium=Exinfluencer&utm_source=Exinfluencer&utm_content=000026UJ&utm_term=10006555&utm_id=NA-SkillsNetwork-Channel-SkillsNetworkCoursesIBMDA0321ENSkillsNetwork928-2022-01-01\" target=\"_blank\">\n    <img src=\"https://cf-courses-data.s3.us.cloud-object-storage.appdomain.cloud/assets/logos/SN_web_lightmode.png\" width=\"400\" alt=\"Skills Network Logo\"  />\n    </a>\n</p>\n",
      "metadata": {}
    },
    {
      "cell_type": "markdown",
      "source": "# **Data Wrangling Lab**\n",
      "metadata": {}
    },
    {
      "cell_type": "markdown",
      "source": "Estimated time needed: **45 to 60** minutes\n",
      "metadata": {}
    },
    {
      "cell_type": "markdown",
      "source": "In this assignment you will be performing data wrangling.\n",
      "metadata": {}
    },
    {
      "cell_type": "markdown",
      "source": "## Objectives\n",
      "metadata": {}
    },
    {
      "cell_type": "markdown",
      "source": "In this lab you will perform the following:\n",
      "metadata": {}
    },
    {
      "cell_type": "markdown",
      "source": "-   Identify duplicate values in the dataset.\n\n-   Remove duplicate values from the dataset.\n\n-   Identify missing values in the dataset.\n\n-   Impute the missing values in the dataset.\n\n-   Normalize data in the dataset.\n",
      "metadata": {}
    },
    {
      "cell_type": "markdown",
      "source": "<hr>\n",
      "metadata": {}
    },
    {
      "cell_type": "markdown",
      "source": "## Hands on Lab\n",
      "metadata": {}
    },
    {
      "cell_type": "markdown",
      "source": "Import pandas module.\n",
      "metadata": {}
    },
    {
      "cell_type": "code",
      "source": "import pandas as pd",
      "metadata": {
        "trusted": true
      },
      "outputs": [
        {
          "name": "stderr",
          "text": "<ipython-input-1-7dd3504c366f>:1: DeprecationWarning: \nPyarrow will become a required dependency of pandas in the next major release of pandas (pandas 3.0),\n(to allow more performant data types, such as the Arrow string type, and better interoperability with other libraries)\nbut was not found to be installed on your system.\nIf this would cause problems for you,\nplease provide us feedback at https://github.com/pandas-dev/pandas/issues/54466\n        \n  import pandas as pd\n",
          "output_type": "stream"
        }
      ],
      "execution_count": 1
    },
    {
      "cell_type": "markdown",
      "source": "Load the dataset into a dataframe.\n",
      "metadata": {}
    },
    {
      "cell_type": "markdown",
      "source": "<h2>Read Data</h2>\n<p>\nWe utilize the <code>pandas.read_csv()</code> function for reading CSV files. However, in this version of the lab, which operates on JupyterLite, the dataset needs to be downloaded to the interface using the provided code below.\n</p>\n",
      "metadata": {}
    },
    {
      "cell_type": "markdown",
      "source": "The functions below will download the dataset into your browser:\n",
      "metadata": {}
    },
    {
      "cell_type": "code",
      "source": "from pyodide.http import pyfetch\nimport numpy as np\nasync def download(url, filename):\n    response = await pyfetch(url)\n    if response.status == 200:\n        with open(filename, \"wb\") as f:\n            f.write(await response.bytes())",
      "metadata": {
        "trusted": true
      },
      "outputs": [],
      "execution_count": 77
    },
    {
      "cell_type": "code",
      "source": "file_path = \"https://cf-courses-data.s3.us.cloud-object-storage.appdomain.cloud/IBM-DA0321EN-SkillsNetwork/LargeData/m1_survey_data.csv\"",
      "metadata": {
        "trusted": true
      },
      "outputs": [],
      "execution_count": 3
    },
    {
      "cell_type": "markdown",
      "source": "To obtain the dataset, utilize the download() function as defined above:  \n",
      "metadata": {}
    },
    {
      "cell_type": "code",
      "source": "await download(file_path, \"m1_survey_data.csv\")\nfile_name=\"m1_survey_data.csv\"",
      "metadata": {
        "trusted": true
      },
      "outputs": [],
      "execution_count": 4
    },
    {
      "cell_type": "markdown",
      "source": "Utilize the Pandas method read_csv() to load the data into a dataframe.\n",
      "metadata": {}
    },
    {
      "cell_type": "code",
      "source": "df = pd.read_csv(file_name)",
      "metadata": {
        "trusted": true
      },
      "outputs": [],
      "execution_count": 5
    },
    {
      "cell_type": "markdown",
      "source": "> Note: This version of the lab is working on JupyterLite, which requires the dataset to be downloaded to the interface.While working on the downloaded version of this notebook on their local machines(Jupyter Anaconda), the learners can simply **skip the steps above,** and simply use the URL directly in the `pandas.read_csv()` function. You can uncomment and run the statements in the cell below.\n",
      "metadata": {}
    },
    {
      "cell_type": "code",
      "source": "#df = pd.read_csv(\"https://cf-courses-data.s3.us.cloud-object-storage.appdomain.cloud/IBM-DA0321EN-SkillsNetwork/LargeData/m1_survey_data.csv\")",
      "metadata": {},
      "outputs": [],
      "execution_count": null
    },
    {
      "cell_type": "markdown",
      "source": "## Finding duplicates\n",
      "metadata": {}
    },
    {
      "cell_type": "markdown",
      "source": "In this section you will identify duplicate values in the dataset.\n",
      "metadata": {}
    },
    {
      "cell_type": "markdown",
      "source": " Find how many duplicate rows exist in the dataframe.\n",
      "metadata": {}
    },
    {
      "cell_type": "code",
      "source": "# your code goes here\nrow_val = 2339,2342\n#df.loc[df['Respondent'].isin(row_val)]\nprint(df.loc[df['Respondent'] == 2339])\nprint(df[df.duplicated()])\n#count number of duplicate rows\nprint(df.duplicated().sum())",
      "metadata": {
        "trusted": true
      },
      "outputs": [
        {
          "name": "stdout",
          "text": "      Respondent                      MainBranch Hobbyist  \\\n1107        2339  I am a developer by profession      Yes   \n1168        2339  I am a developer by profession      Yes   \n1229        2339  I am a developer by profession      Yes   \n\n                     OpenSourcer  \\\n1107  Once a month or more often   \n1168  Once a month or more often   \n1229  Once a month or more often   \n\n                                             OpenSource          Employment  \\\n1107  OSS is, on average, of HIGHER quality than pro...  Employed full-time   \n1168  OSS is, on average, of HIGHER quality than pro...  Employed full-time   \n1229  OSS is, on average, of HIGHER quality than pro...  Employed full-time   \n\n            Country Student  \\\n1107  United States      No   \n1168  United States      No   \n1229  United States      No   \n\n                                                EdLevel  \\\n1107  Some college/university study without earning ...   \n1168  Some college/university study without earning ...   \n1229  Some college/university study without earning ...   \n\n                                         UndergradMajor  ...  \\\n1107  Computer science, computer engineering, or sof...  ...   \n1168  Computer science, computer engineering, or sof...  ...   \n1229  Computer science, computer engineering, or sof...  ...   \n\n                                WelcomeChange SONewContent   Age Gender Trans  \\\n1107  Just as welcome now as I felt last year          NaN  24.0    Man    No   \n1168  Just as welcome now as I felt last year          NaN  24.0    Man    No   \n1229  Just as welcome now as I felt last year          NaN  24.0    Man    No   \n\n                    Sexuality                     Ethnicity Dependents  \\\n1107  Straight / Heterosexual  White or of European descent         No   \n1168  Straight / Heterosexual  White or of European descent         No   \n1229  Straight / Heterosexual  White or of European descent         No   \n\n               SurveyLength SurveyEase  \n1107  Appropriate in length       Easy  \n1168  Appropriate in length       Easy  \n1229  Appropriate in length       Easy  \n\n[3 rows x 85 columns]\n      Respondent                                         MainBranch Hobbyist  \\\n1168        2339                     I am a developer by profession      Yes   \n1169        2342                     I am a developer by profession      Yes   \n1170        2343                     I am a developer by profession      Yes   \n1171        2344                     I am a developer by profession      Yes   \n1172        2347                     I am a developer by profession      Yes   \n...          ...                                                ...      ...   \n2297        4674  I am not primarily a developer, but I write co...      Yes   \n2298        4675                     I am a developer by profession      Yes   \n2299        4676                     I am a developer by profession      Yes   \n2300        4677                     I am a developer by profession      Yes   \n2301        4679                     I am a developer by profession      Yes   \n\n                                            OpenSourcer  \\\n1168                         Once a month or more often   \n1169                                              Never   \n1170  Less than once a month but more than once per ...   \n1171                                              Never   \n1172                                              Never   \n...                                                 ...   \n2297                            Less than once per year   \n2298                                              Never   \n2299                                              Never   \n2300                         Once a month or more often   \n2301  Less than once a month but more than once per ...   \n\n                                             OpenSource          Employment  \\\n1168  OSS is, on average, of HIGHER quality than pro...  Employed full-time   \n1169  The quality of OSS and closed source software ...  Employed full-time   \n1170  OSS is, on average, of LOWER quality than prop...  Employed full-time   \n1171  The quality of OSS and closed source software ...  Employed full-time   \n1172  OSS is, on average, of HIGHER quality than pro...  Employed full-time   \n...                                                 ...                 ...   \n2297  The quality of OSS and closed source software ...  Employed full-time   \n2298  OSS is, on average, of HIGHER quality than pro...  Employed full-time   \n2299  OSS is, on average, of HIGHER quality than pro...  Employed full-time   \n2300  OSS is, on average, of HIGHER quality than pro...  Employed full-time   \n2301  The quality of OSS and closed source software ...  Employed full-time   \n\n             Country Student  \\\n1168   United States      No   \n1169  United Kingdom      No   \n1170          Canada      No   \n1171   United States      No   \n1172  United Kingdom      No   \n...              ...     ...   \n2297      Bangladesh      No   \n2298   United States      No   \n2299         Finland      No   \n2300  United Kingdom      No   \n2301   United States      No   \n\n                                                EdLevel  \\\n1168  Some college/university study without earning ...   \n1169  Some college/university study without earning ...   \n1170        Master’s degree (MA, MS, M.Eng., MBA, etc.)   \n1171           Bachelor’s degree (BA, BS, B.Eng., etc.)   \n1172        Master’s degree (MA, MS, M.Eng., MBA, etc.)   \n...                                                 ...   \n2297           Bachelor’s degree (BA, BS, B.Eng., etc.)   \n2298           Bachelor’s degree (BA, BS, B.Eng., etc.)   \n2299        Master’s degree (MA, MS, M.Eng., MBA, etc.)   \n2300           Bachelor’s degree (BA, BS, B.Eng., etc.)   \n2301        Master’s degree (MA, MS, M.Eng., MBA, etc.)   \n\n                                         UndergradMajor  ...  \\\n1168  Computer science, computer engineering, or sof...  ...   \n1169  Information systems, information technology, o...  ...   \n1170  Computer science, computer engineering, or sof...  ...   \n1171  Computer science, computer engineering, or sof...  ...   \n1172  Computer science, computer engineering, or sof...  ...   \n...                                                 ...  ...   \n2297                                                NaN  ...   \n2298  Information systems, information technology, o...  ...   \n2299  Another engineering discipline (ex. civil, ele...  ...   \n2300  A natural science (ex. biology, chemistry, phy...  ...   \n2301  Computer science, computer engineering, or sof...  ...   \n\n                                 WelcomeChange  \\\n1168   Just as welcome now as I felt last year   \n1169  Somewhat more welcome now than last year   \n1170  Somewhat more welcome now than last year   \n1171   Just as welcome now as I felt last year   \n1172   Just as welcome now as I felt last year   \n...                                        ...   \n2297  Somewhat less welcome now than last year   \n2298   Just as welcome now as I felt last year   \n2299  Somewhat less welcome now than last year   \n2300   Just as welcome now as I felt last year   \n2301   Just as welcome now as I felt last year   \n\n                                           SONewContent   Age Gender Trans  \\\n1168                                                NaN  24.0    Man    No   \n1169  Tech meetups or events in your area;Courses on...  24.0    Man    No   \n1170  Tech articles written by other developers;Indu...  27.0    Man    No   \n1171  Tech articles written by other developers;Indu...  24.0    Man    No   \n1172                                                NaN   NaN  Woman    No   \n...                                                 ...   ...    ...   ...   \n2297  Tech articles written by other developers;Indu...  31.0    Man    No   \n2298                Tech meetups or events in your area  27.0    Man    No   \n2299                                                NaN  36.0    Man    No   \n2300                                                NaN  40.0    Man    No   \n2301                                                NaN  27.0    Man    No   \n\n                                            Sexuality  \\\n1168                          Straight / Heterosexual   \n1169                          Straight / Heterosexual   \n1170                          Straight / Heterosexual   \n1171                          Straight / Heterosexual   \n1172                          Straight / Heterosexual   \n...                                               ...   \n2297  Bisexual;Gay or Lesbian;Straight / Heterosexual   \n2298                          Straight / Heterosexual   \n2299                          Straight / Heterosexual   \n2300                          Straight / Heterosexual   \n2301                                              NaN   \n\n                                              Ethnicity Dependents  \\\n1168                       White or of European descent         No   \n1169                       White or of European descent         No   \n1170  Black or of African descent;White or of Europe...         No   \n1171                       White or of European descent         No   \n1172                                           Biracial         No   \n...                                                 ...        ...   \n2297  Black or of African descent;Hispanic or Latino...        Yes   \n2298                       White or of European descent         No   \n2299                       White or of European descent        Yes   \n2300                       White or of European descent        Yes   \n2301                       White or of European descent         No   \n\n               SurveyLength                  SurveyEase  \n1168  Appropriate in length                        Easy  \n1169               Too long                        Easy  \n1170  Appropriate in length  Neither easy nor difficult  \n1171  Appropriate in length                        Easy  \n1172               Too long                        Easy  \n...                     ...                         ...  \n2297               Too long  Neither easy nor difficult  \n2298  Appropriate in length                        Easy  \n2299               Too long                        Easy  \n2300  Appropriate in length                        Easy  \n2301  Appropriate in length                        Easy  \n\n[154 rows x 85 columns]\n154\n",
          "output_type": "stream"
        }
      ],
      "execution_count": 15
    },
    {
      "cell_type": "markdown",
      "source": "## Removing duplicates\n",
      "metadata": {}
    },
    {
      "cell_type": "markdown",
      "source": "Remove the duplicate rows from the dataframe.\n",
      "metadata": {}
    },
    {
      "cell_type": "code",
      "source": "print(df.loc[df['Respondent'] == 2339])\nprint(df.duplicated().value_counts())",
      "metadata": {
        "trusted": true
      },
      "outputs": [
        {
          "name": "stdout",
          "text": "      Respondent                      MainBranch Hobbyist  \\\n1107        2339  I am a developer by profession      Yes   \n1168        2339  I am a developer by profession      Yes   \n1229        2339  I am a developer by profession      Yes   \n\n                     OpenSourcer  \\\n1107  Once a month or more often   \n1168  Once a month or more often   \n1229  Once a month or more often   \n\n                                             OpenSource          Employment  \\\n1107  OSS is, on average, of HIGHER quality than pro...  Employed full-time   \n1168  OSS is, on average, of HIGHER quality than pro...  Employed full-time   \n1229  OSS is, on average, of HIGHER quality than pro...  Employed full-time   \n\n            Country Student  \\\n1107  United States      No   \n1168  United States      No   \n1229  United States      No   \n\n                                                EdLevel  \\\n1107  Some college/university study without earning ...   \n1168  Some college/university study without earning ...   \n1229  Some college/university study without earning ...   \n\n                                         UndergradMajor  ...  \\\n1107  Computer science, computer engineering, or sof...  ...   \n1168  Computer science, computer engineering, or sof...  ...   \n1229  Computer science, computer engineering, or sof...  ...   \n\n                                WelcomeChange SONewContent   Age Gender Trans  \\\n1107  Just as welcome now as I felt last year          NaN  24.0    Man    No   \n1168  Just as welcome now as I felt last year          NaN  24.0    Man    No   \n1229  Just as welcome now as I felt last year          NaN  24.0    Man    No   \n\n                    Sexuality                     Ethnicity Dependents  \\\n1107  Straight / Heterosexual  White or of European descent         No   \n1168  Straight / Heterosexual  White or of European descent         No   \n1229  Straight / Heterosexual  White or of European descent         No   \n\n               SurveyLength SurveyEase  \n1107  Appropriate in length       Easy  \n1168  Appropriate in length       Easy  \n1229  Appropriate in length       Easy  \n\n[3 rows x 85 columns]\nFalse    11398\nTrue       154\nName: count, dtype: int64\n",
          "output_type": "stream"
        }
      ],
      "execution_count": 19
    },
    {
      "cell_type": "code",
      "source": "# your code goes here\n#inplace=True will update the original dataset\nprint(df.drop_duplicates(inplace=True))",
      "metadata": {
        "trusted": true
      },
      "outputs": [
        {
          "name": "stdout",
          "text": "None\n",
          "output_type": "stream"
        }
      ],
      "execution_count": 21
    },
    {
      "cell_type": "markdown",
      "source": "Verify if duplicates were actually dropped.\n",
      "metadata": {}
    },
    {
      "cell_type": "code",
      "source": "# your code goes here\nprint(df.shape)\nprint(df.duplicated())\nprint(df['Respondent'].duplicated().value_counts())",
      "metadata": {
        "trusted": true
      },
      "outputs": [
        {
          "name": "stdout",
          "text": "(11398, 86)\n0        False\n1        False\n2        False\n3        False\n4        False\n         ...  \n11547    False\n11548    False\n11549    False\n11550    False\n11551    False\nLength: 11398, dtype: bool\nRespondent\nFalse    11398\nName: count, dtype: int64\n",
          "output_type": "stream"
        }
      ],
      "execution_count": 105
    },
    {
      "cell_type": "markdown",
      "source": "## Finding Missing values\n",
      "metadata": {}
    },
    {
      "cell_type": "markdown",
      "source": "Find the missing values for all columns.\n",
      "metadata": {}
    },
    {
      "cell_type": "code",
      "source": "# your code goes here\nmissing_data = df.isnull()\nmissing_data\n#print(missing_data.head())\nfor col in missing_data.columns.values.tolist():\n    #print(col)\n    print(missing_data[col].value_counts())\n    print(\" \")",
      "metadata": {
        "trusted": true
      },
      "outputs": [
        {
          "name": "stdout",
          "text": "Respondent\nFalse    11398\nName: count, dtype: int64\n \nMainBranch\nFalse    11398\nName: count, dtype: int64\n \nHobbyist\nFalse    11398\nName: count, dtype: int64\n \nOpenSourcer\nFalse    11398\nName: count, dtype: int64\n \nOpenSource\nFalse    11317\nTrue        81\nName: count, dtype: int64\n \nEmployment\nFalse    11398\nName: count, dtype: int64\n \nCountry\nFalse    11398\nName: count, dtype: int64\n \nStudent\nFalse    11347\nTrue        51\nName: count, dtype: int64\n \nEdLevel\nFalse    11286\nTrue       112\nName: count, dtype: int64\n \nUndergradMajor\nFalse    10661\nTrue       737\nName: count, dtype: int64\n \nEduOther\nFalse    11234\nTrue       164\nName: count, dtype: int64\n \nOrgSize\nFalse    11302\nTrue        96\nName: count, dtype: int64\n \nDevType\nFalse    11333\nTrue        65\nName: count, dtype: int64\n \nYearsCode\nFalse    11389\nTrue         9\nName: count, dtype: int64\n \nAge1stCode\nFalse    11385\nTrue        13\nName: count, dtype: int64\n \nYearsCodePro\nFalse    11382\nTrue        16\nName: count, dtype: int64\n \nCareerSat\nFalse    11398\nName: count, dtype: int64\n \nJobSat\nFalse    11397\nTrue         1\nName: count, dtype: int64\n \nMgrIdiot\nFalse    10905\nTrue       493\nName: count, dtype: int64\n \nMgrMoney\nFalse    10901\nTrue       497\nName: count, dtype: int64\n \nMgrWant\nFalse    10905\nTrue       493\nName: count, dtype: int64\n \nJobSeek\nFalse    11398\nName: count, dtype: int64\n \nLastHireDate\nFalse    11398\nName: count, dtype: int64\n \nLastInt\nFalse    10985\nTrue       413\nName: count, dtype: int64\n \nFizzBuzz\nFalse    11361\nTrue        37\nName: count, dtype: int64\n \nJobFactors\nFalse    11395\nTrue         3\nName: count, dtype: int64\n \nResumeUpdate\nFalse    11359\nTrue        39\nName: count, dtype: int64\n \nCurrencySymbol\nFalse    11398\nName: count, dtype: int64\n \nCurrencyDesc\nFalse    11398\nName: count, dtype: int64\n \nCompTotal\nFalse    10589\nTrue       809\nName: count, dtype: int64\n \nCompFreq\nFalse    11192\nTrue       206\nName: count, dtype: int64\n \nConvertedComp\nFalse    10582\nTrue       816\nName: count, dtype: int64\n \nWorkWeekHrs\nFalse    11276\nTrue       122\nName: count, dtype: int64\n \nWorkPlan\nFalse    11277\nTrue       121\nName: count, dtype: int64\n \nWorkChallenge\nFalse    11234\nTrue       164\nName: count, dtype: int64\n \nWorkRemote\nFalse    11390\nTrue         8\nName: count, dtype: int64\n \nWorkLoc\nFalse    11366\nTrue        32\nName: count, dtype: int64\n \nImpSyn\nFalse    11393\nTrue         5\nName: count, dtype: int64\n \nCodeRev\nFalse    11397\nTrue         1\nName: count, dtype: int64\n \nCodeRevHrs\nFalse    8972\nTrue     2426\nName: count, dtype: int64\n \nUnitTests\nFalse    11369\nTrue        29\nName: count, dtype: int64\n \nPurchaseHow\nFalse    11202\nTrue       196\nName: count, dtype: int64\n \nPurchaseWhat\nFalse    11360\nTrue        38\nName: count, dtype: int64\n \nLanguageWorkedWith\nFalse    11387\nTrue        11\nName: count, dtype: int64\n \nLanguageDesireNextYear\nFalse    11264\nTrue       134\nName: count, dtype: int64\n \nDatabaseWorkedWith\nFalse    10945\nTrue       453\nName: count, dtype: int64\n \nDatabaseDesireNextYear\nFalse    10356\nTrue      1042\nName: count, dtype: int64\n \nPlatformWorkedWith\nFalse    10987\nTrue       411\nName: count, dtype: int64\n \nPlatformDesireNextYear\nFalse    10854\nTrue       544\nName: count, dtype: int64\n \nWebFrameWorkedWith\nFalse    10005\nTrue      1393\nName: count, dtype: int64\n \nWebFrameDesireNextYear\nFalse    9781\nTrue     1617\nName: count, dtype: int64\n \nMiscTechWorkedWith\nFalse    9216\nTrue     2182\nName: count, dtype: int64\n \nMiscTechDesireNextYear\nFalse    9943\nTrue     1455\nName: count, dtype: int64\n \nDevEnviron\nFalse    11369\nTrue        29\nName: count, dtype: int64\n \nOpSys\nFalse    11364\nTrue        34\nName: count, dtype: int64\n \nContainers\nFalse    11316\nTrue        82\nName: count, dtype: int64\n \nBlockchainOrg\nFalse    9076\nTrue     2322\nName: count, dtype: int64\n \nBlockchainIs\nFalse    8788\nTrue     2610\nName: count, dtype: int64\n \nBetterLife\nFalse    11300\nTrue        98\nName: count, dtype: int64\n \nITperson\nFalse    11363\nTrue        35\nName: count, dtype: int64\n \nOffOn\nFalse    11360\nTrue        38\nName: count, dtype: int64\n \nSocialMedia\nFalse    11105\nTrue       293\nName: count, dtype: int64\n \nExtraversion\nFalse    11378\nTrue        20\nName: count, dtype: int64\n \nScreenName\nFalse    10891\nTrue       507\nName: count, dtype: int64\n \nSOVisit1st\nFalse    11073\nTrue       325\nName: count, dtype: int64\n \nSOVisitFreq\nFalse    11393\nTrue         5\nName: count, dtype: int64\n \nSOVisitTo\nFalse    11397\nTrue         1\nName: count, dtype: int64\n \nSOFindAnswer\nFalse    11395\nTrue         3\nName: count, dtype: int64\n \nSOTimeSaved\nFalse    11348\nTrue        50\nName: count, dtype: int64\n \nSOHowMuchTime\nFalse    9481\nTrue     1917\nName: count, dtype: int64\n \nSOAccount\nFalse    11397\nTrue         1\nName: count, dtype: int64\n \nSOPartFreq\nFalse    10270\nTrue      1128\nName: count, dtype: int64\n \nSOJobs\nFalse    11392\nTrue         6\nName: count, dtype: int64\n \nEntTeams\nFalse    11393\nTrue         5\nName: count, dtype: int64\n \nSOComm\nFalse    11398\nName: count, dtype: int64\n \nWelcomeChange\nFalse    11313\nTrue        85\nName: count, dtype: int64\n \nSONewContent\nFalse    9433\nTrue     1965\nName: count, dtype: int64\n \nAge\nFalse    11111\nTrue       287\nName: count, dtype: int64\n \nGender\nFalse    11325\nTrue        73\nName: count, dtype: int64\n \nTrans\nFalse    11275\nTrue       123\nName: count, dtype: int64\n \nSexuality\nFalse    10856\nTrue       542\nName: count, dtype: int64\n \nEthnicity\nFalse    10723\nTrue       675\nName: count, dtype: int64\n \nDependents\nFalse    11258\nTrue       140\nName: count, dtype: int64\n \nSurveyLength\nFalse    11379\nTrue        19\nName: count, dtype: int64\n \nSurveyEase\nFalse    11384\nTrue        14\nName: count, dtype: int64\n \n",
          "output_type": "stream"
        }
      ],
      "execution_count": 43
    },
    {
      "cell_type": "markdown",
      "source": "Find out how many rows are missing in the column 'WorkLoc'\n",
      "metadata": {}
    },
    {
      "cell_type": "code",
      "source": "# your code goes here\nrow_miss = df.isna().sum(axis=1)\nrow_miss\nprint(df[df['WorkLoc'].isnull()].count())\nprint(df[df['EdLevel'].isnull()].count())\n#There are 32 rows missing values in the column WorkLoc\ncol_names = 'WorkLoc','SurveyEase'\nprint(df.loc[df['Respondent'] == 25082,col_names])\nprint(df.loc[df['Respondent'] == 2339,col_names])\n",
      "metadata": {
        "trusted": true
      },
      "outputs": [
        {
          "name": "stdout",
          "text": "Respondent                      0\nMainBranch                      0\nHobbyist                        0\nOpenSourcer                     0\nOpenSource                      0\n                               ..\nEthnicity                       0\nDependents                      0\nSurveyLength                    0\nSurveyEase                      0\nNormalizedAnnualCompensation    0\nLength: 86, dtype: int64\nRespondent                      112\nMainBranch                      112\nHobbyist                        112\nOpenSourcer                     112\nOpenSource                      111\n                               ... \nEthnicity                       102\nDependents                      112\nSurveyLength                    112\nSurveyEase                      112\nNormalizedAnnualCompensation    104\nLength: 86, dtype: int64\n      WorkLoc                  SurveyEase\n11521  Office  Neither easy nor difficult\n     WorkLoc SurveyEase\n1107    Home       Easy\n",
          "output_type": "stream"
        }
      ],
      "execution_count": 106
    },
    {
      "cell_type": "markdown",
      "source": "## Imputing missing values\n",
      "metadata": {}
    },
    {
      "cell_type": "markdown",
      "source": "Find the  value counts for the column WorkLoc.",
      "metadata": {}
    },
    {
      "cell_type": "code",
      "source": "# your code goes here\nprint(df['WorkLoc'].value_counts())\nprint(df['WorkLoc'].value_counts().idxmax())\nprint(df['Employment'].value_counts())\nprint(df['Employment'].value_counts().idxmax())\nprint(df['UndergradMajor'].value_counts())\nprint(df['ConvertedComp'].value_counts())",
      "metadata": {
        "trusted": true
      },
      "outputs": [
        {
          "name": "stdout",
          "text": "WorkLoc\nOffice                                            6838\nHome                                              3589\nOther place, such as a coworking space or cafe     971\nName: count, dtype: int64\nOffice\nEmployment\nEmployed full-time    10968\nEmployed part-time      430\nName: count, dtype: int64\nEmployed full-time\nUndergradMajor\nComputer science, computer engineering, or software engineering          6953\nInformation systems, information technology, or system administration     794\nAnother engineering discipline (ex. civil, electrical, mechanical)        759\nWeb development or web design                                             410\nA natural science (ex. biology, chemistry, physics)                       403\nMathematics or statistics                                                 372\nA business discipline (ex. accounting, finance, marketing)                244\nA social science (ex. anthropology, psychology, political science)        210\nA humanities discipline (ex. literature, history, philosophy)             207\nFine arts or performing arts (ex. graphic design, music, studio art)      161\nI never declared a major                                                  124\nA health science (ex. nursing, pharmacy, radiology)                        24\nName: count, dtype: int64\nConvertedComp\n2000000.0    138\n1000000.0    105\n100000.0      99\n150000.0      92\n120000.0      86\n            ... \n79183.0        1\n20475.0        1\n288732.0       1\n22056.0        1\n19880.0        1\nName: count, Length: 3515, dtype: int64\n",
          "output_type": "stream"
        }
      ],
      "execution_count": 110
    },
    {
      "cell_type": "markdown",
      "source": "Identify the value that is most frequent (majority) in the WorkLoc column.",
      "metadata": {}
    },
    {
      "cell_type": "code",
      "source": "#make a note of the majority value here, for future reference\n#Office is the most frequent in the WorkLoc column\nprint(df['WorkLoc'].mode())\nprint(df.mode()['WorkLoc'])\n",
      "metadata": {
        "trusted": true
      },
      "outputs": [
        {
          "name": "stdout",
          "text": "0    Office\nName: WorkLoc, dtype: object\n0        Office\n1           NaN\n2           NaN\n3           NaN\n4           NaN\n          ...  \n11393       NaN\n11394       NaN\n11395       NaN\n11396       NaN\n11397       NaN\nName: WorkLoc, Length: 11398, dtype: object\n",
          "output_type": "stream"
        }
      ],
      "execution_count": 70
    },
    {
      "cell_type": "markdown",
      "source": "Impute (replace) all the empty rows in the column WorkLoc with the value that you have identified as majority.\n",
      "metadata": {}
    },
    {
      "cell_type": "code",
      "source": "# your code goes here\ndf['WorkLoc'].replace(np.NaN,\"Office\",inplace=True)",
      "metadata": {
        "trusted": true
      },
      "outputs": [
        {
          "name": "stderr",
          "text": "<ipython-input-76-26f7d355221d>:2: FutureWarning: A value is trying to be set on a copy of a DataFrame or Series through chained assignment using an inplace method.\nThe behavior will change in pandas 3.0. This inplace method will never work because the intermediate object on which we are setting values always behaves as a copy.\n\nFor example, when doing 'df[col].method(value, inplace=True)', try using 'df.method({col: value}, inplace=True)' or df[col] = df[col].method(value) instead, to perform the operation inplace on the original object.\n\n\n  df['WorkLoc'].replace(np.NaN,\"Office\",inplace=True)\n",
          "output_type": "stream"
        }
      ],
      "execution_count": 76
    },
    {
      "cell_type": "markdown",
      "source": "After imputation there should ideally not be any empty rows in the WorkLoc column.\n",
      "metadata": {}
    },
    {
      "cell_type": "markdown",
      "source": "Verify if imputing was successful.\n",
      "metadata": {}
    },
    {
      "cell_type": "code",
      "source": "# your code goes here\nprint(df[df['WorkLoc'].isnull()].count())\nprint(df['WorkLoc'].value_counts())",
      "metadata": {
        "trusted": true
      },
      "outputs": [
        {
          "name": "stdout",
          "text": "Respondent      0\nMainBranch      0\nHobbyist        0\nOpenSourcer     0\nOpenSource      0\n               ..\nSexuality       0\nEthnicity       0\nDependents      0\nSurveyLength    0\nSurveyEase      0\nLength: 85, dtype: int64\nWorkLoc\nOffice                                            6838\nHome                                              3589\nOther place, such as a coworking space or cafe     971\nName: count, dtype: int64\n",
          "output_type": "stream"
        }
      ],
      "execution_count": 79
    },
    {
      "cell_type": "markdown",
      "source": "## Normalizing data\n",
      "metadata": {}
    },
    {
      "cell_type": "markdown",
      "source": "There are two columns in the dataset that talk about compensation.\n\nOne is \"CompFreq\". This column shows how often a developer is paid (Yearly, Monthly, Weekly).\n\nThe other is \"CompTotal\". This column talks about how much the developer is paid per Year, Month, or Week depending upon his/her \"CompFreq\". \n\nThis makes it difficult to compare the total compensation of the developers.\n\nIn this section you will create a new column called 'NormalizedAnnualCompensation' which contains the 'Annual Compensation' irrespective of the 'CompFreq'.\n\nOnce this column is ready, it makes comparison of salaries easy.\n",
      "metadata": {}
    },
    {
      "cell_type": "markdown",
      "source": "<hr>\n",
      "metadata": {}
    },
    {
      "cell_type": "markdown",
      "source": "List out the various categories in the column 'CompFreq'\n",
      "metadata": {}
    },
    {
      "cell_type": "code",
      "source": "# your code goes here\ncols_comp = 'CompFreq','CompTotal'\n#rows_val\nprint(df.loc[df['Respondent'] == 2339,cols_comp])\nprint(df.loc[(df['Respondent'] == 16) & (df['CompFreq'] == 'Monthly'),cols_comp])\nprint(df.loc[df['CompFreq'] == 'Monthly','Respondent'])\nprint(df.loc[df['CompFreq'] == 'Weekl)y'])\nprint(df['CompFreq'].value_counts())\n#After removing the duplicate rows, how many respondents are being paid yearly?\nrespon = df.groupby('CompFreq')['Respondent'].count()\nprint(respon)\n",
      "metadata": {
        "trusted": true
      },
      "outputs": [
        {
          "name": "stdout",
          "text": "     CompFreq  CompTotal\n1107   Yearly   100000.0\n  CompFreq  CompTotal\n3  Monthly    29000.0\n3           16\n5           19\n6           20\n9           24\n10          25\n         ...  \n11539    25120\n11540    25122\n11541    25123\n11545    25133\n11546    25134\nName: Respondent, Length: 4788, dtype: int64\nEmpty DataFrame\nColumns: [Respondent, MainBranch, Hobbyist, OpenSourcer, OpenSource, Employment, Country, Student, EdLevel, UndergradMajor, EduOther, OrgSize, DevType, YearsCode, Age1stCode, YearsCodePro, CareerSat, JobSat, MgrIdiot, MgrMoney, MgrWant, JobSeek, LastHireDate, LastInt, FizzBuzz, JobFactors, ResumeUpdate, CurrencySymbol, CurrencyDesc, CompTotal, CompFreq, ConvertedComp, WorkWeekHrs, WorkPlan, WorkChallenge, WorkRemote, WorkLoc, ImpSyn, CodeRev, CodeRevHrs, UnitTests, PurchaseHow, PurchaseWhat, LanguageWorkedWith, LanguageDesireNextYear, DatabaseWorkedWith, DatabaseDesireNextYear, PlatformWorkedWith, PlatformDesireNextYear, WebFrameWorkedWith, WebFrameDesireNextYear, MiscTechWorkedWith, MiscTechDesireNextYear, DevEnviron, OpSys, Containers, BlockchainOrg, BlockchainIs, BetterLife, ITperson, OffOn, SocialMedia, Extraversion, ScreenName, SOVisit1st, SOVisitFreq, SOVisitTo, SOFindAnswer, SOTimeSaved, SOHowMuchTime, SOAccount, SOPartFreq, SOJobs, EntTeams, SOComm, WelcomeChange, SONewContent, Age, Gender, Trans, Sexuality, Ethnicity, Dependents, SurveyLength, SurveyEase, NormalizedAnnualCompensation]\nIndex: []\n\n[0 rows x 86 columns]\nCompFreq\nYearly     6073\nMonthly    4788\nWeekly      331\nName: count, dtype: int64\nCompFreq\nMonthly    4788\nWeekly      331\nYearly     6073\nName: Respondent, dtype: int64\n",
          "output_type": "stream"
        }
      ],
      "execution_count": 112
    },
    {
      "cell_type": "markdown",
      "source": "Create a new column named 'NormalizedAnnualCompensation'. Use the hint given below if needed.\n",
      "metadata": {}
    },
    {
      "cell_type": "markdown",
      "source": "Double click to see the **Hint**.\n\n<!--\n\nUse the below logic to arrive at the values for the column NormalizedAnnualCompensation.\n\nIf the CompFreq is Yearly then use the exising value in CompTotal\nIf the CompFreq is Monthly then multiply the value in CompTotal with 12 (months in an year)\nIf the CompFreq is Weekly then multiply the value in CompTotal with 52 (weeks in an year)\n\n-->\n",
      "metadata": {}
    },
    {
      "cell_type": "code",
      "source": "# your code goes here\ndf.loc[df['CompFreq'] == 'Yearly','NormalizedAnnualCompensation'] = df['CompTotal']        \ndf.loc[df['CompFreq'] == 'Monthly','NormalizedAnnualCompensation'] = df['CompTotal'] * 12        \ndf.loc[df['CompFreq'] == 'Weekly','NormalizedAnnualCompensation'] = df['CompTotal'] * 52       ",
      "metadata": {
        "trusted": true
      },
      "outputs": [],
      "execution_count": 97
    },
    {
      "cell_type": "code",
      "source": "cols_comp = 'CompFreq','CompTotal','ConvertedComp','NormalizedAnnualCompensation','WorkLoc'\nrows_val = 2339,16,4,9,29,32,102,19,20\nprint(df.loc[df['Respondent'].isin(rows_val),cols_comp])\n#What is the median NormalizedAnnualCompensation?  \nmedian_normAnnComp = df['NormalizedAnnualCompensation'].median()\nprint(median_normAnnComp)",
      "metadata": {
        "trusted": true
      },
      "outputs": [
        {
          "name": "stdout",
          "text": "     CompFreq  CompTotal  ConvertedComp  NormalizedAnnualCompensation WorkLoc\n0      Yearly    61000.0        61000.0                       61000.0    Home\n1      Yearly   138000.0        95179.0                      138000.0  Office\n3     Monthly    29000.0       455352.0                      348000.0    Home\n5     Monthly     9500.0        31140.0                      114000.0  Office\n6     Monthly     3000.0        41244.0                       36000.0  Office\n12     Weekly     2000.0       100000.0                      104000.0  Office\n13     Weekly    22000.0      1100000.0                     1144000.0    Home\n46     Weekly    67800.0      2000000.0                     3525600.0  Office\n1107   Yearly   100000.0       100000.0                      100000.0    Home\n100000.0\n",
          "output_type": "stream"
        }
      ],
      "execution_count": 115
    },
    {
      "cell_type": "markdown",
      "source": "## Authors\n",
      "metadata": {}
    },
    {
      "cell_type": "markdown",
      "source": "Ramesh Sannareddy\n",
      "metadata": {}
    },
    {
      "cell_type": "markdown",
      "source": "### Other Contributors\n",
      "metadata": {}
    },
    {
      "cell_type": "markdown",
      "source": "Rav Ahuja\n",
      "metadata": {}
    },
    {
      "cell_type": "markdown",
      "source": " Copyright © 2020 IBM Corporation. This notebook and its source code are released under the terms of the [MIT License](https://cognitiveclass.ai/mit-license?utm_medium=Exinfluencer&utm_source=Exinfluencer&utm_content=000026UJ&utm_term=10006555&utm_id=NA-SkillsNetwork-Channel-SkillsNetworkCoursesIBMDA0321ENSkillsNetwork928-2022-01-01&cm_mmc=Email_Newsletter-_-Developer_Ed%2BTech-_-WW_WW-_-SkillsNetwork-Courses-IBM-DA0321EN-SkillsNetwork-21426264&cm_mmca1=000026UJ&cm_mmca2=10006555&cm_mmca3=M12345678&cvosrc=email.Newsletter.M12345678&cvo_campaign=000026UJ).\n",
      "metadata": {}
    },
    {
      "cell_type": "markdown",
      "source": "<!--## Change Log\n",
      "metadata": {}
    },
    {
      "cell_type": "markdown",
      "source": "<!--| Date (YYYY-MM-DD) | Version | Changed By        | Change Description                 |\n| ----------------- | ------- | ----------------- | ---------------------------------- |\n| 2020-10-17        | 0.1     | Ramesh Sannareddy | Created initial version of the lab |--!>\n",
      "metadata": {}
    }
  ]
}